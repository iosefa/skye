{
 "cells": [
  {
   "cell_type": "markdown",
   "metadata": {},
   "source": [
    "# SKYE \n",
    "\n",
    "Analyzing 360-degree images for ecological analysis with python.\n",
    "\n",
    "This notebook provides examples of some of the current supported features and functions."
   ]
  },
  {
   "cell_type": "code",
   "execution_count": null,
   "metadata": {
    "pycharm": {
     "is_executing": true
    }
   },
   "outputs": [],
   "source": [
    "# from skye.core import SkyViewClassified, SkyViewThreshold\n",
    "\n",
    "# from matplotlib import pyplot as plt\n",
    "# %matplotlib inline  "
   ]
  },
  {
   "cell_type": "code",
   "execution_count": 1,
   "metadata": {},
   "outputs": [
    {
     "name": "stdout",
     "output_type": "stream",
     "text": [
      "Jupyter compare_view v0.2.4\n"
     ]
    }
   ],
   "source": [
    "import os\n",
    "import sys\n",
    "import glob\n",
    "import random\n",
    "\n",
    "sys.path.insert(0, os.path.abspath(\"..\"))\n",
    "\n",
    "from skye.core import SkyView\n",
    "from matplotlib import pyplot as plt\n",
    "from jupyter_compare_view import compare\n",
    "\n",
    "\n",
    "%matplotlib inline  "
   ]
  },
  {
   "cell_type": "markdown",
   "metadata": {},
   "source": [
    "`skye.core` will create hemispherical photos, classified sky vs non-sky classified images, and the sky-view-factor from 360-degree RGB images. \n",
    "\n",
    "There are currently two supported methods two create these objects. The first, `SkyViewThreshold` uses a threshold value to create binary sky non-sky images while the second, `SkyViewClassified` uses the quickshift segmentation alrogithm to create superpixels which can then be classified using machine learning methods."
   ]
  },
  {
   "cell_type": "markdown",
   "metadata": {},
   "source": [
    "## Sky View Classified\n",
    "\n",
    "First, let's create and analyze images using computer vision and image classification. We will create a `SkyViewClassified` object using a 360 image taken from a Ricoh Theta S and some predefined training data. See the training data section below for how to create training data."
   ]
  },
  {
   "cell_type": "code",
   "execution_count": 2,
   "metadata": {},
   "outputs": [
    {
     "data": {
      "text/plain": [
       "'R0014221'"
      ]
     },
     "execution_count": 2,
     "metadata": {},
     "output_type": "execute_result"
    }
   ],
   "source": [
    "image = 'images/R0012449.JPG'\n",
    "image_name = image.split('/')[-1].split('.JPG')[0]\n",
    "image_name"
   ]
  },
  {
   "cell_type": "code",
   "execution_count": 3,
   "metadata": {},
   "outputs": [
    {
     "data": {
      "application/vnd.jupyter.widget-view+json": {
       "model_id": "71c1d6a504da4f02bb940b2e364d8465",
       "version_major": 2,
       "version_minor": 0
      },
      "text/plain": [
       "Creating Hemispherical Photo:   0%|          "
      ]
     },
     "metadata": {},
     "output_type": "display_data"
    }
   ],
   "source": [
    "skye_binarization = SkyView(image, training_data_path=None, enhance_image=True, threshold=0.7)"
   ]
  },
  {
   "cell_type": "code",
   "execution_count": null,
   "metadata": {},
   "outputs": [],
   "source": [
    "compare(skye_binarization.img, skye.classified_img, start_mode=\"horizontal\", start_slider_pos=1, height=850)"
   ]
  },
  {
   "cell_type": "markdown",
   "metadata": {},
   "source": [
    "Now that the object has been created, we can simply extract all that we need. First we can observe the hemispherical image:"
   ]
  },
  {
   "cell_type": "markdown",
   "metadata": {},
   "source": [
    "Since `SkyViewClassified` class uses image segmentation and classification, it is possible to view the resulting segmented image as well as the statistics associated with each segment. These are crucial for the image classification that was used to create the binary sky image. Note, currently parameters to control the tuning of these models are not exposed during this experimental phase of the library."
   ]
  },
  {
   "cell_type": "code",
   "execution_count": null,
   "metadata": {},
   "outputs": [],
   "source": [
    "skye_quickshift = SkyView(image, training_data_path='training.csv', segmentation_method='quickshift', enhance_image=True, ratio=0.85)"
   ]
  },
  {
   "cell_type": "code",
   "execution_count": null,
   "metadata": {
    "scrolled": false
   },
   "outputs": [],
   "source": [
    "compare(skye_quickshift.img, skye_quickshift.segmented_img, start_mode=\"horizontal\", start_slider_pos=1, height=850)"
   ]
  },
  {
   "cell_type": "code",
   "execution_count": null,
   "metadata": {},
   "outputs": [],
   "source": [
    "compare(skye_quickshift.img, skye_quickshift.classified_img, start_mode=\"horizontal\", start_slider_pos=1, height=850)"
   ]
  },
  {
   "cell_type": "markdown",
   "metadata": {},
   "source": [
    "And the resulting classified image:"
   ]
  },
  {
   "cell_type": "markdown",
   "metadata": {},
   "source": [
    "Finally, we can extract the sky view factor (canopy openness):"
   ]
  },
  {
   "cell_type": "code",
   "execution_count": 6,
   "metadata": {},
   "outputs": [
    {
     "name": "stdout",
     "output_type": "stream",
     "text": [
      "0.19857261148967661\n"
     ]
    }
   ],
   "source": [
    "skye_binarization.calculate_svf()\n",
    "print(skye_binarization.sky_view_factor) \n",
    "# print(skye_quickshift.sky_view_factor) "
   ]
  },
  {
   "cell_type": "markdown",
   "metadata": {},
   "source": [
    "## Creating training data for Sky View Classified\n",
    "\n",
    "Finally, we can create training data for the classification algorithm using in `SkyViewClass`. "
   ]
  },
  {
   "cell_type": "code",
   "execution_count": 8,
   "metadata": {},
   "outputs": [
    {
     "ename": "AttributeError",
     "evalue": "'HemiPhoto' object has no attribute 'objects_df_clean'",
     "output_type": "error",
     "traceback": [
      "\u001B[0;31m---------------------------------------------------------------------------\u001B[0m",
      "\u001B[0;31mAttributeError\u001B[0m                            Traceback (most recent call last)",
      "Cell \u001B[0;32mIn[8], line 1\u001B[0m\n\u001B[0;32m----> 1\u001B[0m \u001B[43mskye_binarization\u001B[49m\u001B[38;5;241;43m.\u001B[39;49m\u001B[43mcreate_training_data\u001B[49m\u001B[43m(\u001B[49m\u001B[43mn_samples\u001B[49m\u001B[38;5;241;43m=\u001B[39;49m\u001B[38;5;241;43m10\u001B[39;49m\u001B[43m,\u001B[49m\u001B[43m \u001B[49m\u001B[43mnotebook\u001B[49m\u001B[38;5;241;43m=\u001B[39;49m\u001B[38;5;28;43;01mTrue\u001B[39;49;00m\u001B[43m)\u001B[49m\n",
      "File \u001B[0;32m~/repos/skye/skye/core.py:320\u001B[0m, in \u001B[0;36mHemiPhoto.create_training_data\u001B[0;34m(self, n_samples, notebook, save_segment_path)\u001B[0m\n\u001B[1;32m    319\u001B[0m \u001B[38;5;28;01mdef\u001B[39;00m \u001B[38;5;21mcreate_training_data\u001B[39m(\u001B[38;5;28mself\u001B[39m, n_samples\u001B[38;5;241m=\u001B[39m\u001B[38;5;241m500\u001B[39m, notebook\u001B[38;5;241m=\u001B[39m\u001B[38;5;28;01mFalse\u001B[39;00m, save_segment_path\u001B[38;5;241m=\u001B[39m\u001B[38;5;28;01mNone\u001B[39;00m):\n\u001B[0;32m--> 320\u001B[0m     sample \u001B[38;5;241m=\u001B[39m random\u001B[38;5;241m.\u001B[39msample(\u001B[38;5;28mlist\u001B[39m(\u001B[38;5;28;43mself\u001B[39;49m\u001B[38;5;241;43m.\u001B[39;49m\u001B[43mobjects_df_clean\u001B[49m[\u001B[38;5;124m'\u001B[39m\u001B[38;5;124msegment_id\u001B[39m\u001B[38;5;124m'\u001B[39m]\u001B[38;5;241m.\u001B[39mvalues), n_samples)\n\u001B[1;32m    321\u001B[0m     img \u001B[38;5;241m=\u001B[39m np\u001B[38;5;241m.\u001B[39marray(\u001B[38;5;28mself\u001B[39m\u001B[38;5;241m.\u001B[39mimg)\n\u001B[1;32m    322\u001B[0m     img \u001B[38;5;241m=\u001B[39m img_as_float(img)\n",
      "\u001B[0;31mAttributeError\u001B[0m: 'HemiPhoto' object has no attribute 'objects_df_clean'"
     ]
    }
   ],
   "source": [
    "skye_binarization.create_training_data(n_samples=10, notebook=True)"
   ]
  },
  {
   "cell_type": "code",
   "execution_count": null,
   "metadata": {},
   "outputs": [],
   "source": [
    "skye.export_training_data('training_data_expanded.csv')"
   ]
  },
  {
   "cell_type": "code",
   "execution_count": null,
   "metadata": {},
   "outputs": [],
   "source": [
    "skye = SkyViewClassified('R0012437.JPG')"
   ]
  },
  {
   "cell_type": "code",
   "execution_count": null,
   "metadata": {},
   "outputs": [],
   "source": [
    "skye.create_training_data(n_samples=1000, notebook=True)"
   ]
  }
 ],
 "metadata": {
  "kernelspec": {
   "display_name": "Python 3 (ipykernel)",
   "language": "python",
   "name": "python3"
  },
  "language_info": {
   "codemirror_mode": {
    "name": "ipython",
    "version": 3
   },
   "file_extension": ".py",
   "mimetype": "text/x-python",
   "name": "python",
   "nbconvert_exporter": "python",
   "pygments_lexer": "ipython3",
   "version": "3.11.3"
  }
 },
 "nbformat": 4,
 "nbformat_minor": 1
}
