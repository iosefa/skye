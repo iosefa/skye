{
 "cells": [
  {
   "cell_type": "markdown",
   "metadata": {},
   "source": [
    "# SKYE \n",
    "\n",
    "Analyzing 360-degree images for ecological analysis with python.\n",
    "\n",
    "This notebook provides examples of some of the current supported features and functions."
   ]
  },
  {
   "cell_type": "code",
   "execution_count": 1,
   "metadata": {
    "pycharm": {
     "is_executing": true
    }
   },
   "outputs": [],
   "source": [
    "import sys\n",
    "import os\n",
    "sys.path.insert(0, os.path.abspath(\"..\"))"
   ]
  },
  {
   "cell_type": "markdown",
   "metadata": {},
   "source": [
    "Import the library functions:"
   ]
  },
  {
   "cell_type": "code",
   "execution_count": 2,
   "metadata": {},
   "outputs": [],
   "source": [
    "from skye.core import SkyViewClassified, SkyViewThreshold\n",
    "\n",
    "from matplotlib import pyplot as plt\n",
    "%matplotlib inline  "
   ]
  },
  {
   "cell_type": "markdown",
   "metadata": {},
   "source": [
    "`skye.core` will create hemispherical photos, classified sky vs non-sky classified images, and the sky-view-factor from 360-degree RGB images. \n",
    "\n",
    "There are currently two supported methods two create these objects. The first, `SkyViewThreshold` uses a threshold value to create binary sky non-sky images while the second, `SkyViewClassified` uses the quickshift segmentation alrogithm to create superpixels which can then be classified using machine learning methods."
   ]
  },
  {
   "cell_type": "markdown",
   "metadata": {},
   "source": [
    "## Sky View Classified\n",
    "\n",
    "First, let's create and analyze images using computer vision and image classification. We will create a `SkyViewClassified` object using a 360 image taken from a Ricoh Theta S and some predefined training data. See the training data section below for how to create training data."
   ]
  },
  {
   "cell_type": "code",
   "execution_count": null,
   "metadata": {},
   "outputs": [
    {
     "data": {
      "application/vnd.jupyter.widget-view+json": {
       "model_id": "fba2c410d3e747e2a49c3dd6600b2093",
       "version_major": 2,
       "version_minor": 0
      },
      "text/plain": [
       "Creating Hemispherical Photo:   0%|          "
      ]
     },
     "metadata": {},
     "output_type": "display_data"
    }
   ],
   "source": [
    "skye = SkyViewClassified('R0012437.JPG', training_data_path='training.csv')"
   ]
  },
  {
   "cell_type": "markdown",
   "metadata": {},
   "source": [
    "Now that the object has been created, we can simply extract all that we need. First we can observe the hemispherical image:"
   ]
  },
  {
   "cell_type": "code",
   "execution_count": null,
   "metadata": {},
   "outputs": [],
   "source": [
    "skye.img"
   ]
  },
  {
   "cell_type": "markdown",
   "metadata": {},
   "source": [
    "Since `SkyViewClassified` class uses image segmentation and classification, it is possible to view the resulting segmented image as well as the statistics associated with each segment. These are crucial for the image classification that was used to create the binary sky image. Note, currently parameters to control the tuning of these models are not exposed during this experimental phase of the library."
   ]
  },
  {
   "cell_type": "code",
   "execution_count": null,
   "metadata": {
    "scrolled": false
   },
   "outputs": [],
   "source": [
    "fig = plt.figure(figsize=(14,14))\n",
    "ax = fig.add_subplot(1, 1, 1)\n",
    "plt.axis(\"off\")\n",
    "\n",
    "skye.plot_segments(ax)\n",
    "plt.show()"
   ]
  },
  {
   "cell_type": "markdown",
   "metadata": {},
   "source": [
    "And the resulting classified image:"
   ]
  },
  {
   "cell_type": "code",
   "execution_count": null,
   "metadata": {},
   "outputs": [],
   "source": [
    "skye.classified_img"
   ]
  },
  {
   "cell_type": "markdown",
   "metadata": {},
   "source": [
    "Finally, we can extract the sky view factor (canopy openness):"
   ]
  },
  {
   "cell_type": "code",
   "execution_count": null,
   "metadata": {},
   "outputs": [],
   "source": [
    "skye.sky_view_factor"
   ]
  },
  {
   "cell_type": "markdown",
   "metadata": {},
   "source": [
    "## Sky View Threshold\n",
    "\n",
    "We can also observe the quality of binary sky images that are generated using a threshold on greyscale images. For this analysis, it is important to set the best threshold value."
   ]
  },
  {
   "cell_type": "code",
   "execution_count": null,
   "metadata": {},
   "outputs": [],
   "source": [
    "skye_thresh = SkyViewThreshold('R0012437.JPG', threshold=0.7)"
   ]
  },
  {
   "cell_type": "code",
   "execution_count": null,
   "metadata": {},
   "outputs": [],
   "source": [
    "skye_thresh.binary_img"
   ]
  },
  {
   "cell_type": "code",
   "execution_count": null,
   "metadata": {},
   "outputs": [],
   "source": [
    "skye_thresh.sky_view_factor"
   ]
  },
  {
   "cell_type": "markdown",
   "metadata": {},
   "source": [
    "## Creating training data for Sky View Classified\n",
    "\n",
    "Finally, we can create training data for the classification algorithm using in `SkyViewClass`. "
   ]
  },
  {
   "cell_type": "code",
   "execution_count": null,
   "metadata": {},
   "outputs": [],
   "source": [
    "skye.create_training_data(n_samples=1000, notebook=True)"
   ]
  },
  {
   "cell_type": "code",
   "execution_count": null,
   "metadata": {},
   "outputs": [],
   "source": [
    "skye.export_training_data('training_data_expanded.csv')"
   ]
  }
 ],
 "metadata": {
  "kernelspec": {
   "display_name": "Python 3 (ipykernel)",
   "language": "python",
   "name": "python3"
  },
  "language_info": {
   "codemirror_mode": {
    "name": "ipython",
    "version": 3
   },
   "file_extension": ".py",
   "mimetype": "text/x-python",
   "name": "python",
   "nbconvert_exporter": "python",
   "pygments_lexer": "ipython3",
   "version": "3.11.1"
  }
 },
 "nbformat": 4,
 "nbformat_minor": 1
}
