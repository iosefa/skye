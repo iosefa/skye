{
 "cells": [
  {
   "cell_type": "code",
   "execution_count": 1,
   "metadata": {},
   "outputs": [
    {
     "ename": "ModuleNotFoundError",
     "evalue": "No module named 'sklearn'",
     "output_type": "error",
     "traceback": [
      "\u001b[0;31m---------------------------------------------------------------------------\u001b[0m",
      "\u001b[0;31mModuleNotFoundError\u001b[0m                       Traceback (most recent call last)",
      "Cell \u001b[0;32mIn[1], line 15\u001b[0m\n\u001b[1;32m     13\u001b[0m \u001b[38;5;28;01mimport\u001b[39;00m \u001b[38;5;21;01mrandom\u001b[39;00m\n\u001b[1;32m     14\u001b[0m \u001b[38;5;28;01mfrom\u001b[39;00m \u001b[38;5;21;01mIPython\u001b[39;00m\u001b[38;5;21;01m.\u001b[39;00m\u001b[38;5;21;01mdisplay\u001b[39;00m \u001b[38;5;28;01mimport\u001b[39;00m clear_output\n\u001b[0;32m---> 15\u001b[0m \u001b[38;5;28;01mimport\u001b[39;00m \u001b[38;5;21;01msklearn\u001b[39;00m\n",
      "\u001b[0;31mModuleNotFoundError\u001b[0m: No module named 'sklearn'"
     ]
    }
   ],
   "source": [
    "import cv2\n",
    "import matplotlib.pyplot as plt\n",
    "import numpy as np\n",
    "import pandas as pd\n",
    "from math import atan, pi, sqrt\n",
    "\n",
    "import scipy\n",
    "from PIL import Image\n",
    "from skimage import io\n",
    "from skimage.segmentation import quickshift\n",
    "from skimage.segmentation import mark_boundaries, find_boundaries\n",
    "from skimage.util import img_as_float\n",
    "import random\n",
    "from IPython.display import clear_output\n",
    "import sklearn"
   ]
  },
  {
   "cell_type": "code",
   "execution_count": null,
   "metadata": {},
   "outputs": [],
   "source": [
    "def summary_statistics(segment_pixels):\n",
    "    \"\"\"\n",
    "    For each band, compute: min, max, mean, variance, skewness, kurtosis\n",
    "    \"\"\"\n",
    "    features = []\n",
    "    n_pixels = segment_pixels.shape\n",
    "    stats = scipy.stats.describe(segment_pixels)\n",
    "    band_stats = list(stats)\n",
    "    if n_pixels == 1:\n",
    "        # scipy.stats.describe raises a Warning and sets variance to nan\n",
    "        band_stats[3] = 0.0  # Replace nan with something (zero)\n",
    "    features += band_stats\n",
    "    return features\n",
    "\n",
    "\n",
    "def segment_quickshift(img, ratio=0.85, sigma=0, save_plot=False):\n",
    "    image = io.imread(img)\n",
    "    image = img_as_float(image)\n",
    "    segments = quickshift(image, ratio=ratio, sigma=sigma)\n",
    "    if save_plot:\n",
    "        fig = plt.figure(\"Quickshift segmentation\")\n",
    "        ax = fig.add_subplot(1, 1, 1)\n",
    "        ax.imshow(mark_boundaries(image, segments))\n",
    "        plt.axis(\"off\")\n",
    "        plt.savefig('segments_quickshift.png', dpi=300)\n",
    "    return segments\n",
    "\n",
    "\n",
    "def create_superpixels(img):\n",
    "    \"\"\"\n",
    "    Creates objects based on a given segmentation algorithm\n",
    "    \"\"\"\n",
    "    image = io.imread(img)\n",
    "    image = img_as_float(image)\n",
    "    segments = segment_quickshift(img)\n",
    "    segment_ids = np.unique(segments)\n",
    "    superpixels = []\n",
    "    for segment_id in segment_ids:\n",
    "        segment_pixels = image[segments == segment_id]\n",
    "        segment_stats = summary_statistics(segment_pixels)\n",
    "        superpixels.append(\n",
    "            {\n",
    "                'id': segment_id,\n",
    "                'stats': segment_stats,\n",
    "                'pixels': segment_pixels.shape\n",
    "            }\n",
    "        )\n",
    "    return superpixels\n",
    "\n",
    "\n",
    "# todo: The idea is to first create the equal area hemispherical projection. Then, given the image,\n",
    "#  perform SLIC segmentation. Then, using an existing training database (created using all ANP images),\n",
    "#  classify segments using a deep neural network (or random forests, or MLP, or SVM).\n",
    "\n",
    "def unsharp_mask(image, kernel_size=(5, 5), sigma=1.0, amount=10.0, threshold=0.1):\n",
    "    \"\"\"\n",
    "    Return a sharpened version of the image, using an unsharp mask.\n",
    "    \"\"\"\n",
    "    blurred = cv2.GaussianBlur(image, kernel_size, sigma)\n",
    "    sharpened = float(amount + 1) * image - float(amount) * blurred\n",
    "    sharpened = np.maximum(sharpened, np.zeros(sharpened.shape))\n",
    "    sharpened = np.minimum(sharpened, 255 * np.ones(sharpened.shape))\n",
    "    sharpened = sharpened.round().astype(np.uint8)\n",
    "    if threshold > 0:\n",
    "        low_contrast_mask = np.absolute(image - blurred) < threshold\n",
    "        np.copyto(sharpened, image, where=low_contrast_mask)\n",
    "    return sharpened\n",
    "\n",
    "\n",
    "def create_hemispherical(image_path):\n",
    "    \"\"\"\n",
    "    Creates an equal-area hemispherical image from a 360 image.\n",
    "    :param sharpen:\n",
    "    :param image_path: path to 360 image.\n",
    "    :return:\n",
    "    \"\"\"\n",
    "    try:\n",
    "        img = cv2.imread(image_path)\n",
    "    except Exception as e:\n",
    "        raise Exception(f'Could not import image. Original exception: {e}')\n",
    "    dim1 = img.shape[0]\n",
    "    img_h1 = np.zeros((dim1 + 1, dim1 + 1, 3))\n",
    "    img_h2 = img_h1.copy()\n",
    "    dim2 = int(dim1 / 2)\n",
    "\n",
    "    for i in range(-dim2, dim2):\n",
    "        for j in range(-dim2, dim2):\n",
    "            if i >= 0:\n",
    "                ix = dim1\n",
    "            elif j >= 0:\n",
    "                ix = dim1 * 2\n",
    "            else:\n",
    "                ix = 0\n",
    "            if i == 0:\n",
    "                if j < 0:\n",
    "                    ix = round(dim1/-2) + ix\n",
    "                elif j > 0:\n",
    "                    ix = round(dim1/2) + ix\n",
    "                else:\n",
    "                    continue\n",
    "            else:\n",
    "                ix = round(atan(j / i) * dim1 / pi) + ix\n",
    "            iy = sqrt(i ** 2 + j ** 2)\n",
    "            iy2 = round(dim2 * np.arcsin(iy / dim2 / np.sqrt(2)) / pi * 4)\n",
    "            if 1 <= ix <= dim1 * 2 and 1 <= iy2 <= dim1 // 2:\n",
    "                img_h2[i + dim2, j + dim2] = img[iy2, ix-1]\n",
    "\n",
    "    im_b = np.concatenate((img_h2[:dim2], img_h2[dim2 + 2:]), axis=0)\n",
    "    im_bb = np.concatenate((im_b[:, :dim2], im_b[:, dim2 + 2:]), axis=1)\n",
    "\n",
    "    im = Image.fromarray(im_bb.astype(np.uint8))\n",
    "    image_name = image_path.split('.')[0]\n",
    "    im.save(image_name + \"_area.png\")"
   ]
  },
  {
   "cell_type": "code",
   "execution_count": null,
   "metadata": {},
   "outputs": [],
   "source": [
    "class SkyView:\n",
    "    def __init__(\n",
    "        self,\n",
    "        image_path: str\n",
    "        ):\n",
    "        pass\n",
    "    \n",
    "    "
   ]
  },
  {
   "cell_type": "code",
   "execution_count": null,
   "metadata": {},
   "outputs": [],
   "source": [
    "# image = \"R0013229.JPG\"\n",
    "image = \"R0012437.JPG\"\n",
    "create_hemispherical(image)\n",
    "image_name = image.split('.')[0] + \"_area.png\"\n",
    "\n",
    "superpixels = create_superpixels(image_name)"
   ]
  },
  {
   "cell_type": "code",
   "execution_count": null,
   "metadata": {},
   "outputs": [],
   "source": [
    "segments = segment_quickshift(image_name)"
   ]
  },
  {
   "cell_type": "code",
   "execution_count": null,
   "metadata": {},
   "outputs": [],
   "source": [
    "def flatten(aList):\n",
    "    t = []\n",
    "    for i in aList:\n",
    "        if not isinstance(i, (np.ndarray, tuple)):\n",
    "             t.append(i)\n",
    "        else:\n",
    "             t.extend(flatten(i))\n",
    "    return t"
   ]
  },
  {
   "cell_type": "code",
   "execution_count": null,
   "metadata": {},
   "outputs": [],
   "source": [
    "df = pd.DataFrame(columns = ['segment_id', 'nobs', 'b1_min', 'b1_max', 'b2_min', 'b2_max', 'b3_min', 'b3_max', 'b1_mean', 'b2_mean',\n",
    " 'b3_mean', 'b1_variance', 'b2_variance', 'b3_variance', 'b1_skewness', 'b2_skewness',\n",
    " 'b3_skewness', 'b1_kurtosis', 'b2_kurtosis', 'b3_kurtosis']\n",
    ")\n",
    "\n",
    "for i, superpixel in enumerate(superpixels):\n",
    "    row = flatten(superpixel['stats'])\n",
    "    df.loc[i] = [i + 1] + row"
   ]
  },
  {
   "cell_type": "code",
   "execution_count": null,
   "metadata": {},
   "outputs": [],
   "source": [
    "df.head()"
   ]
  },
  {
   "cell_type": "code",
   "execution_count": null,
   "metadata": {},
   "outputs": [],
   "source": [
    "img = io.imread(image_name)\n",
    "img = img_as_float(img)\n",
    "segments.shape\n",
    "\n",
    "fig = plt.figure(\"Quickshift segmentation\")\n",
    "ax = fig.add_subplot(1, 1, 1)\n",
    "ax.imshow(mark_boundaries(img, segments))\n",
    "plt.axis(\"off\")\n",
    "plt.savefig(f'{image_name}_segments.png', dpi=300)"
   ]
  },
  {
   "cell_type": "code",
   "execution_count": null,
   "metadata": {},
   "outputs": [],
   "source": [
    "segment_classes = pd.DataFrame(columns = ['image', 'segment_id', 'class'])"
   ]
  },
  {
   "cell_type": "code",
   "execution_count": null,
   "metadata": {
    "scrolled": false
   },
   "outputs": [],
   "source": [
    "# plt.close()\n",
    "\n",
    "# plt.ion()\n",
    "# plt.ioff()\n",
    "# plt.show()\n",
    "# fig = plt.figure(\"Quickshift segmentation\")\n",
    "# ax = fig.add_subplot(1, 1, 1)\n",
    "# plt.axis(\"off\")\n",
    "\n",
    "sample = random.sample(range(segments.shape[0]), 500)\n",
    "\n",
    "for i in sample:\n",
    "    print(f'working on {i}')\n",
    "    mask = np.ma.masked_where(segments !=i, segments)\n",
    "    valid_pixels = np.argwhere(~np.isnan(mask))\n",
    "    y_min, x_min = tuple(np.min(valid_pixels, axis=0))\n",
    "    y_max, x_max = tuple(np.max(valid_pixels, axis=0))\n",
    "\n",
    "    x_min = x_min if x_min - 100 < 0 else x_min - 100\n",
    "    y_min = y_min if y_min - 100 < 0 else y_min - 100\n",
    "    x_max = x_max if x_max + 100 > segments.shape[0] else x_max + 100\n",
    "    y_max = y_max if y_max + 100 > segments.shape[0] else y_max + 100\n",
    "    \n",
    "    fig = plt.figure(f\"Segment {i}\")\n",
    "    ax = fig.add_subplot(1, 1, 1)\n",
    "    ax.imshow(img)\n",
    "    ax.imshow(mask)\n",
    "    plt.axis(\"off\")\n",
    "\n",
    "    ax.imshow(mark_boundaries(img, mask))\n",
    "    plt.axis([x_min, x_max, y_min, y_max])\n",
    "#     plt.gcf().canvas.draw()\n",
    "    plt.show()\n",
    "    \n",
    "    klass = input(\"Enter class or type 'end' to end.\")\n",
    "    if klass == 'end':\n",
    "        break\n",
    "    segment_classes.loc[len(segment_classes)] = [image_name, i, klass]\n",
    "    clear_output(wait=True)"
   ]
  },
  {
   "cell_type": "code",
   "execution_count": null,
   "metadata": {},
   "outputs": [],
   "source": [
    "segment_classes.head()"
   ]
  },
  {
   "cell_type": "code",
   "execution_count": null,
   "metadata": {},
   "outputs": [],
   "source": [
    "plt.ioff()"
   ]
  },
  {
   "cell_type": "code",
   "execution_count": null,
   "metadata": {
    "scrolled": false
   },
   "outputs": [],
   "source": [
    "\n",
    "# print(np.max(foo, axis=0))\n",
    "\n",
    "fig = plt.figure(\"Quickshift segmentation\")\n",
    "ax = fig.add_subplot(1, 1, 1)\n",
    "ax.imshow(mark_boundaries(img, mask))\n",
    "# plt.axis([x_min, x_max, y_min, y_max])\n",
    "plt.axis([x_min, x_max, y_min, y_max])\n",
    "plt.axis(\"off\")\n",
    "plt.show()\n",
    "# [   1 1256]\n",
    "# [  33 1308]\n",
    "\n",
    "# def onclick(event):\n",
    "#     a = ('button=%d, x=%d, y=%d, xdata=%f, ydata=%f' %\n",
    "#           (event.button, event.x, event.y, event.xdata, event.ydata))\n",
    "#     ax.set_title(a)\n",
    "\n",
    "# cid = fig.canvas.mpl_connect('button_press_event', onclick)\n"
   ]
  },
  {
   "cell_type": "code",
   "execution_count": null,
   "metadata": {},
   "outputs": [],
   "source": [
    "# fig.canvas.mpl_disconnect(cid)\n"
   ]
  },
  {
   "cell_type": "code",
   "execution_count": null,
   "metadata": {},
   "outputs": [],
   "source": [
    "fig = plt.figure(\"Quickshift segmentation\")\n",
    "ax = fig.add_subplot(1, 1, 1)\n",
    "ax.imshow(img)\n",
    "ax.imshow(mask)\n",
    "plt.axis(\"off\")\n"
   ]
  },
  {
   "cell_type": "code",
   "execution_count": null,
   "metadata": {},
   "outputs": [],
   "source": [
    "foo = pd.merge(df, segment_classes, on=\"segment_id\", how=\"right\")\n",
    "foo.to_csv('training.csv')"
   ]
  },
  {
   "cell_type": "code",
   "execution_count": null,
   "metadata": {},
   "outputs": [],
   "source": [
    "foo.head()"
   ]
  }
 ],
 "metadata": {
  "kernelspec": {
   "display_name": "Python 3 (ipykernel)",
   "language": "python",
   "name": "python3"
  },
  "language_info": {
   "codemirror_mode": {
    "name": "ipython",
    "version": 3
   },
   "file_extension": ".py",
   "mimetype": "text/x-python",
   "name": "python",
   "nbconvert_exporter": "python",
   "pygments_lexer": "ipython3",
   "version": "3.11.1"
  }
 },
 "nbformat": 4,
 "nbformat_minor": 1
}
